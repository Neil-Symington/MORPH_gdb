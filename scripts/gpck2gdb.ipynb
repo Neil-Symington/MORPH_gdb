{
 "cells": [
  {
   "cell_type": "code",
   "execution_count": 3,
   "metadata": {},
   "outputs": [],
   "source": [
    "import os\n",
    "import arcpy"
   ]
  },
  {
   "cell_type": "code",
   "execution_count": 2,
   "metadata": {},
   "outputs": [
    {
     "data": {
      "text/html": [
       "<h2>Output</h2>C:\\Users\\u77932\\Documents\\MORPH\\data\\boreholes\\compilation\\databases\\MORPH_boreholes.gdb<h2>Messages</h2>Start Time: Thursday, 28 October 2021 8:44:34 AM<br/>Succeeded at Thursday, 28 October 2021 8:44:34 AM (Elapsed Time: 0.36 seconds)<br/><style>.rendered_html td, .rendered_html th {text-align: left;}.rendered_html tbody {border: 1px solid black;}</style>"
      ],
      "text/plain": [
       "<Result 'C:\\\\Users\\\\u77932\\\\Documents\\\\MORPH\\\\data\\\\boreholes\\\\compilation\\\\databases\\\\MORPH_boreholes.gdb'>"
      ]
     },
     "execution_count": 2,
     "metadata": {},
     "output_type": "execute_result"
    }
   ],
   "source": [
    "outdir = r\"C:\\Users\\u77932\\Documents\\MORPH\\data\\boreholes\\compilation\\databases\"\n",
    "outfile = \"MORPH_boreholes.gdb\"\n",
    "arcpy.CreateFileGDB_management(outdir, outfile)"
   ]
  },
  {
   "cell_type": "code",
   "execution_count": 4,
   "metadata": {},
   "outputs": [
    {
     "data": {
      "text/html": [
       "<h2>Output</h2>C:\\Users\\u77932\\Documents\\MORPH\\data\\boreholes\\compilation\\databases\\MORPH_boreholes.gdb<h2>Messages</h2>Start Time: Thursday, 28 October 2021 8:55:35 AM<br/>main.MORPH_Bores Successfully converted:  C:\\Users\\u77932\\Documents\\MORPH\\data\\boreholes\\compilation\\databases\\MORPH_boreholes.gdb\\main_MORPH_Bores<br/>Succeeded at Thursday, 28 October 2021 8:55:37 AM (Elapsed Time: 2.50 seconds)<br/><style>.rendered_html td, .rendered_html th {text-align: left;}.rendered_html tbody {border: 1px solid black;}</style>"
      ],
      "text/plain": [
       "<Result 'C:\\\\Users\\\\u77932\\\\Documents\\\\MORPH\\\\data\\\\boreholes\\\\compilation\\\\databases\\\\MORPH_boreholes.gdb'>"
      ]
     },
     "execution_count": 4,
     "metadata": {},
     "output_type": "execute_result"
    }
   ],
   "source": [
    "arcpy.conversion.FeatureClassToGeodatabase(\"main.MORPH_BORES\", os.path.join(outdir, outfile))\n",
    "# As far as I can tell the renaming will need to be done within the window"
   ]
  },
  {
   "cell_type": "code",
   "execution_count": 6,
   "metadata": {},
   "outputs": [
    {
     "data": {
      "text/html": [
       "<h2>Output</h2>C:\\Users\\u77932\\Documents\\MORPH\\data\\boreholes\\compilation\\databases\\MORPH_boreholes.gdb\\MORPH_ConstructionLog<h2>Messages</h2>Start Time: Thursday, 28 October 2021 8:59:27 AM<br/>Succeeded at Thursday, 28 October 2021 8:59:28 AM (Elapsed Time: 1.07 seconds)<br/><style>.rendered_html td, .rendered_html th {text-align: left;}.rendered_html tbody {border: 1px solid black;}</style>"
      ],
      "text/plain": [
       "<Result 'C:\\\\Users\\\\u77932\\\\Documents\\\\MORPH\\\\data\\\\boreholes\\\\compilation\\\\databases\\\\MORPH_boreholes.gdb\\\\MORPH_ConstructionLog'>"
      ]
     },
     "execution_count": 6,
     "metadata": {},
     "output_type": "execute_result"
    }
   ],
   "source": [
    "arcpy.conversion.TableToTable(\"main.MORPH_Borelog\", os.path.join(outdir, outfile), \"MORPH_Borelog\")\n",
    "arcpy.conversion.TableToTable(\"main.MORPH_LithologyLog\", os.path.join(outdir, outfile), \"MORPH_LithologyLog\")\n",
    "arcpy.conversion.TableToTable(\"main.MORPH_ConstructionLog\", os.path.join(outdir, outfile), \"MORPH_ConstructionLog\")"
   ]
  },
  {
   "cell_type": "code",
   "execution_count": 7,
   "metadata": {},
   "outputs": [
    {
     "data": {
      "text/html": [
       "<h2>Output</h2>a Layer object<h2>Messages</h2>Start Time: Thursday, 28 October 2021 9:14:18 AM<br/>Succeeded at Thursday, 28 October 2021 9:14:18 AM (Elapsed Time: 0.36 seconds)<br/><style>.rendered_html td, .rendered_html th {text-align: left;}.rendered_html tbody {border: 1px solid black;}</style>"
      ],
      "text/plain": [
       "<Result 'MORPH_Bores'>"
      ]
     },
     "execution_count": 7,
     "metadata": {},
     "output_type": "execute_result"
    }
   ],
   "source": [
    "arcpy.management.AddRelate(\"MORPH_Bores\", \"MORPH_ID\", \"MORPH_Borelog\", \"MORPH_ID\", \"bores2borelog\", \"ONE_TO_ONE\")\n",
    "arcpy.management.AddRelate(\"MORPH_Bores\", \"MORPH_ID\", \"MORPH_LithologyLog\", \"MORPH_ID\", \"bores2lithlog\", \"ONE_TO_ONE\")\n",
    "arcpy.management.AddRelate(\"MORPH_Bores\", \"MORPH_ID\", \"MORPH_ConstructionLog\", \"MORPH_ID\", \"bores2constructionlog\", \"ONE_TO_ONE\")\n"
   ]
  },
  {
   "cell_type": "code",
   "execution_count": null,
   "metadata": {},
   "outputs": [],
   "source": []
  }
 ],
 "metadata": {
  "kernelspec": {
   "display_name": "ArcGISPro",
   "language": "Python",
   "name": "python3"
  },
  "language_info": {
   "file_extension": ".py",
   "name": "python",
   "version": "3"
  }
 },
 "nbformat": 4,
 "nbformat_minor": 2
}
